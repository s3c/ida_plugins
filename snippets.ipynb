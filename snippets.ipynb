{
 "cells": [
  {
   "metadata": {},
   "cell_type": "markdown",
   "source": "Breakpoint function on hooked CFG dispatch function to comment the source and add xref to destination",
   "id": "ec10dd98e0c502d4"
  },
  {
   "metadata": {},
   "cell_type": "code",
   "source": [
    "import ida_dbg\n",
    "import ida_xref\n",
    "import ida_bytes\n",
    "import ida_ua\n",
    "import ida_allins\n",
    "import ida_funcs\n",
    "import ida_segment\n",
    "\n",
    "call_src_nxt = ida_bytes.get_qword(ida_dbg.get_reg_val(\"rsp\"))\n",
    "call_src = ida_bytes.prev_head(call_src_nxt, 0)\n",
    "dest_addr = ida_dbg.get_reg_val(\"rax\")\n",
    "dest_name = ida_funcs.get_func_name(dest_addr)\n",
    "\n",
    "text_segment = ida_segment.get_segm_by_name(\".text\")\n",
    "if not (text_segment.start_ea < call_src < text_segment.end_ea):\n",
    "    return False\n",
    "\n",
    "instruction = ida_ua.insn_t()\n",
    "ida_ua.decode_insn(instruction, call_src)\n",
    "\n",
    "if instruction.itype == ida_allins.NN_callni or instruction.itype == ida_allins.NN_call:\n",
    "    ida_xref.add_cref(call_src, dest_addr, ida_xref.XREF_USER | ida_xref.fl_CN)\n",
    "    ida_bytes.set_cmt(call_src, dest_name, False)\n",
    "    print(f\"CALL Xref from {hex(call_src)} to {hex(dest_addr)} ({dest_name})\")\n",
    "else:\n",
    "    print(f\"Invalid instruction type for branch from {hex(call_src)} to {hex(dest_addr)} ({dest_name}) return to {hex(call_src_nxt)}\")\n",
    "    return True\n",
    "\n",
    "return False"
   ],
   "id": "ee0ab177c516c29",
   "outputs": [],
   "execution_count": null
  },
  {
   "metadata": {},
   "cell_type": "markdown",
   "source": "Loop through all code and remove color",
   "id": "1f1e1f48338922f2"
  },
  {
   "metadata": {},
   "cell_type": "code",
   "source": [
    "import ida_ida\n",
    "import ida_nalt\n",
    "import ida_bytes\n",
    "import ida_idaapi\n",
    "\n",
    "start_ea = ida_ida.inf_get_min_ea()\n",
    "end_ea = ida_ida.inf_get_max_ea()\n",
    "\n",
    "if ida_bytes.is_code(ida_bytes.get_full_flags(start_ea)):\n",
    "    ea = start_ea\n",
    "else:\n",
    "    ea = ida_bytes.next_head(start_ea, end_ea)\n",
    "\n",
    "while ea != ida_idaapi.BADADDR and ea < end_ea:\n",
    "    ida_nalt.set_item_color(ea, 0xFFFFFF)\n",
    "    ea = ida_bytes.next_head(ea, end_ea)"
   ],
   "id": "613e6ef87142fab7",
   "outputs": [],
   "execution_count": null
  },
  {
   "metadata": {},
   "cell_type": "markdown",
   "source": "Loop through all code and colorize all call and indirect jmp instructions",
   "id": "56dd64c31c24db85"
  },
  {
   "metadata": {
    "jupyter": {
     "is_executing": true
    }
   },
   "cell_type": "code",
   "source": [
    "import ida_ida\n",
    "import ida_ua\n",
    "import ida_nalt\n",
    "import ida_bytes\n",
    "import ida_idaapi\n",
    "\n",
    "start_ea = ida_ida.inf_get_min_ea()\n",
    "end_ea = ida_ida.inf_get_max_ea()\n",
    "ea = ida_bytes.next_head(start_ea, end_ea)\n",
    "\n",
    "while ea != ida_idaapi.BADADDR and ea < end_ea:\n",
    "    instruction = ida_ua.insn_t()\n",
    "    if ida_ua.decode_insn(instruction, ea):\n",
    "        mnemonic = ida_ua.print_insn_mnem(ea)\n",
    "        if mnemonic and mnemonic.lower() == \"call\":\n",
    "            ida_nalt.set_item_color(ea, 0xFFFFAA)\n",
    "        elif mnemonic and mnemonic.lower() == \"jmp\":\n",
    "            if instruction.ops[0].type in [ida_ua.o_phrase, ida_ua.o_displ, ida_ua.o_reg]:\n",
    "                ida_nalt.set_item_color(ea, 0xFFFFAA)\n",
    "    ea = ida_bytes.next_head(ea, end_ea)"
   ],
   "id": "bd253f917b06b703",
   "outputs": [],
   "execution_count": null
  },
  {
   "metadata": {},
   "cell_type": "markdown",
   "source": "Reload plugin",
   "id": "995803746ead0d1c"
  },
  {
   "metadata": {},
   "cell_type": "code",
   "source": [
    "import testplugin\n",
    "import importlib\n",
    "importlib.reload(testplugin)\n",
    "testplugin.PLUGIN_ENTRY().run(0)"
   ],
   "id": "8b139a2b2f38b6eb",
   "outputs": [],
   "execution_count": null
  },
  {
   "metadata": {},
   "cell_type": "markdown",
   "source": "Diablo Code",
   "id": "c2d87cbf6366a77c"
  },
  {
   "metadata": {},
   "cell_type": "code",
   "source": [
    "import ida_idd\n",
    "\n",
    "read_book = ida_idd.Appcall.proto(0x7FF76BBF0B40, \"__int64 __fastcall sub_7FF76BBF0B40(int64_t, int64_t, int64_t, int64_t);\")\n",
    "for spell_index in range(2, 64):\n",
    "    read_book(0x00, 0x18, spell_index, 0x07)"
   ],
   "id": "ffac57c1aaad9a66",
   "outputs": [],
   "execution_count": null
  }
 ],
 "metadata": {
  "kernelspec": {
   "display_name": "Existing session",
   "language": "",
   "name": "proxy"
  },
  "language_info": {
   "codemirror_mode": {
    "name": "ipython",
    "version": 2
   },
   "file_extension": ".py",
   "mimetype": "text/x-python",
   "name": "python",
   "nbconvert_exporter": "python",
   "pygments_lexer": "ipython2",
   "version": "2.7.6"
  }
 },
 "nbformat": 4,
 "nbformat_minor": 5
}
